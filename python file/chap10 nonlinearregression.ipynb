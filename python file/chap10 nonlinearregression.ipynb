{
 "cells": [
  {
   "cell_type": "markdown",
   "id": "9e772638-500d-4a7d-968d-6e0f348660ad",
   "metadata": {},
   "source": [
    "## セクション１０　非線形回帰"
   ]
  },
  {
   "cell_type": "code",
   "execution_count": null,
   "id": "eb4b8d80-aeab-4e44-91d5-1d05e898d689",
   "metadata": {},
   "outputs": [],
   "source": []
  }
 ],
 "metadata": {
  "kernelspec": {
   "display_name": "Python 3 (ipykernel)",
   "language": "python",
   "name": "python3"
  },
  "language_info": {
   "codemirror_mode": {
    "name": "ipython",
    "version": 3
   },
   "file_extension": ".py",
   "mimetype": "text/x-python",
   "name": "python",
   "nbconvert_exporter": "python",
   "pygments_lexer": "ipython3",
   "version": "3.9.12"
  }
 },
 "nbformat": 4,
 "nbformat_minor": 5
}
