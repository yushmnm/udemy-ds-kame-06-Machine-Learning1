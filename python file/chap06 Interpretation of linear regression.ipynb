{
 "cells": [
  {
   "cell_type": "markdown",
   "id": "18a3d1b0-0022-4a7f-a494-ddfdbad1c661",
   "metadata": {},
   "source": [
    "## セクション６　線形回帰の解釈\n",
    "- 線形回帰モデルは精度の面では非線形モデルに劣ることが多い\n",
    "- 線形回帰モデルを使う大きな理由は解釈性が高いから"
   ]
  },
  {
   "cell_type": "markdown",
   "id": "5a276f83-d85d-45ab-b9d1-bd8bea47440b",
   "metadata": {},
   "source": [
    "### pythonで係数の有意差を確認する\n",
    "- statsmodel.api.OLSクラス\n",
    " 1.OLS(y,X)でインスタンス生成   \n",
    " 2..fit()      \n",
    " 3.summary()でレポート出力   \n",
    "- statsmodels.api.add_constant(X)\n",
    " バイアス項用の列を追加"
   ]
  },
  {
   "cell_type": "code",
   "execution_count": 11,
   "id": "ceca3a68-3261-4ec6-b8c4-fdfde5034e32",
   "metadata": {},
   "outputs": [],
   "source": [
    "import pandas as pd \n",
    "import numpy as np\n",
    "import statsmodels.api as sma\n",
    "from sklearn.preprocessing import StandardScaler"
   ]
  },
  {
   "cell_type": "code",
   "execution_count": 12,
   "id": "a568356e-8008-48cb-b9f7-80fda9777417",
   "metadata": {},
   "outputs": [],
   "source": [
    "df = pd.read_csv('../sample_data2 (1).csv')\n",
    "y_col = 'rent'\n",
    "X = df.drop(columns=[y_col]) \n",
    "y = df[y_col]"
   ]
  },
  {
   "cell_type": "code",
   "execution_count": 10,
   "id": "b4be5424-ac34-49eb-9eb3-64c9e76b64c6",
   "metadata": {},
   "outputs": [
    {
     "name": "stdout",
     "output_type": "stream",
     "text": [
      "                            OLS Regression Results                            \n",
      "==============================================================================\n",
      "Dep. Variable:                   rent   R-squared:                       0.903\n",
      "Model:                            OLS   Adj. R-squared:                  0.876\n",
      "Method:                 Least Squares   F-statistic:                     32.66\n",
      "Date:                Sun, 02 Oct 2022   Prob (F-statistic):           0.000282\n",
      "Time:                        09:37:15   Log-Likelihood:                -22.687\n",
      "No. Observations:                  10   AIC:                             51.37\n",
      "Df Residuals:                       7   BIC:                             52.28\n",
      "Df Model:                           2                                         \n",
      "Covariance Type:            nonrobust                                         \n",
      "==============================================================================\n",
      "                 coef    std err          t      P>|t|      [0.025      0.975]\n",
      "------------------------------------------------------------------------------\n",
      "const          6.4150      2.043      3.140      0.016       1.584      11.246\n",
      "space          0.2677      0.035      7.622      0.000       0.185       0.351\n",
      "age            0.1206      0.131      0.924      0.386      -0.188       0.429\n",
      "==============================================================================\n",
      "Omnibus:                        0.981   Durbin-Watson:                   2.514\n",
      "Prob(Omnibus):                  0.612   Jarque-Bera (JB):                0.734\n",
      "Skew:                          -0.364   Prob(JB):                        0.693\n",
      "Kurtosis:                       1.890   Cond. No.                         130.\n",
      "==============================================================================\n",
      "\n",
      "Notes:\n",
      "[1] Standard Errors assume that the covariance matrix of the errors is correctly specified.\n"
     ]
    },
    {
     "name": "stderr",
     "output_type": "stream",
     "text": [
      "/opt/anaconda3/lib/python3.9/site-packages/scipy/stats/stats.py:1541: UserWarning: kurtosistest only valid for n>=20 ... continuing anyway, n=10\n",
      "  warnings.warn(\"kurtosistest only valid for n>=20 ... continuing \"\n"
     ]
    }
   ],
   "source": [
    "#バイアス項の作成\n",
    "X = sma.add_constant(X)\n",
    "est = sma.OLS(y,X)\n",
    "est_trained = est.fit()\n",
    "print(est_trained.summary())"
   ]
  },
  {
   "cell_type": "markdown",
   "id": "6d89af71-a6a4-469c-90c8-1e66bc594b91",
   "metadata": {},
   "source": [
    "### 標準化した場合のサマリー"
   ]
  },
  {
   "cell_type": "code",
   "execution_count": 18,
   "id": "3e593826-c243-467f-aa7e-4d69119544f2",
   "metadata": {},
   "outputs": [
    {
     "name": "stdout",
     "output_type": "stream",
     "text": [
      "                            OLS Regression Results                            \n",
      "==============================================================================\n",
      "Dep. Variable:                   rent   R-squared:                       0.903\n",
      "Model:                            OLS   Adj. R-squared:                  0.876\n",
      "Method:                 Least Squares   F-statistic:                     32.66\n",
      "Date:                Sun, 02 Oct 2022   Prob (F-statistic):           0.000282\n",
      "Time:                        09:44:51   Log-Likelihood:                -22.687\n",
      "No. Observations:                  10   AIC:                             51.37\n",
      "Df Residuals:                       7   BIC:                             52.28\n",
      "Df Model:                           2                                         \n",
      "Covariance Type:            nonrobust                                         \n",
      "==============================================================================\n",
      "                 coef    std err          t      P>|t|      [0.025      0.975]\n",
      "------------------------------------------------------------------------------\n",
      "const         20.6474      0.884     23.355      0.000      18.557      22.738\n",
      "x1             6.9115      0.907      7.622      0.000       4.767       9.056\n",
      "x2             0.8377      0.907      0.924      0.386      -1.307       2.982\n",
      "==============================================================================\n",
      "Omnibus:                        0.981   Durbin-Watson:                   2.514\n",
      "Prob(Omnibus):                  0.612   Jarque-Bera (JB):                0.734\n",
      "Skew:                          -0.364   Prob(JB):                        0.693\n",
      "Kurtosis:                       1.890   Cond. No.                         1.25\n",
      "==============================================================================\n",
      "\n",
      "Notes:\n",
      "[1] Standard Errors assume that the covariance matrix of the errors is correctly specified.\n"
     ]
    },
    {
     "name": "stderr",
     "output_type": "stream",
     "text": [
      "/opt/anaconda3/lib/python3.9/site-packages/scipy/stats/stats.py:1541: UserWarning: kurtosistest only valid for n>=20 ... continuing anyway, n=10\n",
      "  warnings.warn(\"kurtosistest only valid for n>=20 ... continuing \"\n"
     ]
    }
   ],
   "source": [
    "X = df.drop(columns=[y_col])\n",
    "y = df[y_col]\n",
    "sc = StandardScaler()\n",
    "sc_X = sc.fit_transform(X)\n",
    "sc_X = sma.add_constant(sc_X)\n",
    "est = sma.OLS(y,sc_X)\n",
    "est_sc_trained = est.fit()\n",
    "print(est_sc_trained.summary())\n",
    "\n",
    "#標準化しているのでstd errは同じ値になる"
   ]
  },
  {
   "cell_type": "markdown",
   "id": "9fe840af-fc4c-46de-8e46-bdde5e2035c4",
   "metadata": {},
   "source": [
    "### 係数のF検定\n",
    "- 特徴量が一つでも関連があるかを検定する    \n",
    "    H(0):係数が全て０    \n",
    "    H(1)：少なくとも一つの係数は０ではない \n"
   ]
  },
  {
   "cell_type": "markdown",
   "id": "58b45e3c-ec16-4fd8-9c94-c4cf410fed60",
   "metadata": {},
   "source": [
    "## まとめ\n",
    "### 線形回帰は解釈性が高い\n",
    "### 係数を見ることで解釈することができる\n",
    "### 基本的にF検定でp<0.05を確認してからt検定の結果を見るのが良い"
   ]
  }
 ],
 "metadata": {
  "kernelspec": {
   "display_name": "Python 3 (ipykernel)",
   "language": "python",
   "name": "python3"
  },
  "language_info": {
   "codemirror_mode": {
    "name": "ipython",
    "version": 3
   },
   "file_extension": ".py",
   "mimetype": "text/x-python",
   "name": "python",
   "nbconvert_exporter": "python",
   "pygments_lexer": "ipython3",
   "version": "3.9.12"
  }
 },
 "nbformat": 4,
 "nbformat_minor": 5
}
