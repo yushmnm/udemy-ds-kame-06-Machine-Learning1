{
 "cells": [
  {
   "cell_type": "markdown",
   "id": "00719c22-09d2-4167-a627-5934b96e1ee8",
   "metadata": {},
   "source": [
    "## 回帰モデルの評価指標\n",
    "- MSE\n",
    "- RMSE\n",
    "- MAE\n",
    "- 決定係数\n",
    "- 調整済R2\n"
   ]
  },
  {
   "cell_type": "code",
   "execution_count": 1,
   "id": "8d124e95-e12e-4c42-92de-0265b5f7e4e4",
   "metadata": {},
   "outputs": [],
   "source": [
    "from sklearn.model_selection import train_test_split\n",
    "from sklearn.linear_model import LinearRegression\n",
    "import seaborn as sns\n",
    "# データの準備\n",
    "df = sns.load_dataset('tips')\n",
    "X = df['total_bill'].values.reshape(-1, 1)\n",
    "y = df['tip'].values\n",
    "\n",
    "# hold-out\n",
    "X_train, X_test, y_train, y_test = train_test_split(X, y, test_size=0.3, random_state=0)\n",
    "\n",
    "# train\n",
    "model = LinearRegression()\n",
    "model.fit(X_train, y_train)\n",
    "\n",
    "# predict\n",
    "y_pred = model.predict(X_test)"
   ]
  },
  {
   "cell_type": "code",
   "execution_count": 3,
   "id": "f7a3b225-1065-45bc-821e-b66522036ea5",
   "metadata": {},
   "outputs": [
    {
     "data": {
      "text/plain": [
       "0.871184553753995"
      ]
     },
     "execution_count": 3,
     "metadata": {},
     "output_type": "execute_result"
    }
   ],
   "source": [
    "# MSE\n",
    "from sklearn.metrics import mean_squared_error\n",
    "mse = mean_squared_error(y_test,y_pred)\n",
    "mse"
   ]
  },
  {
   "cell_type": "code",
   "execution_count": 6,
   "id": "651e029b-0c7e-4df6-8924-a2d5540171e1",
   "metadata": {},
   "outputs": [
    {
     "data": {
      "text/plain": [
       "0.9333726767770711"
      ]
     },
     "execution_count": 6,
     "metadata": {},
     "output_type": "execute_result"
    }
   ],
   "source": [
    "# MSE\n",
    "import numpy as np\n",
    "rmse = mean_squared_error(y_test,y_pred,squared=False)\n",
    "rmse"
   ]
  },
  {
   "cell_type": "code",
   "execution_count": 7,
   "id": "dfd3b600-759c-4f53-ad83-4e950c16120e",
   "metadata": {},
   "outputs": [
    {
     "data": {
      "text/plain": [
       "0.6903119067790222"
      ]
     },
     "execution_count": 7,
     "metadata": {},
     "output_type": "execute_result"
    }
   ],
   "source": [
    "# mae\n",
    "from sklearn.metrics import mean_absolute_error\n",
    "mae = mean_absolute_error(y_test,y_pred)\n",
    "mae"
   ]
  },
  {
   "cell_type": "markdown",
   "id": "8d9c45d6-7352-4f2c-98e0-1f194016ec99",
   "metadata": {},
   "source": [
    "rmse =mean_squared_error(y_test,y_pred,squared=False)\n",
    "rmse"
   ]
  },
  {
   "cell_type": "code",
   "execution_count": 8,
   "id": "c32f9706-ca1d-4163-9803-e60c72e3b9ed",
   "metadata": {},
   "outputs": [
    {
     "data": {
      "text/plain": [
       "0.49515102188632765"
      ]
     },
     "execution_count": 8,
     "metadata": {},
     "output_type": "execute_result"
    }
   ],
   "source": [
    "# 決定係数\n",
    "from sklearn.metrics import r2_score\n",
    "r2 = r2_score(y_test,y_pred)\n",
    "r2"
   ]
  },
  {
   "cell_type": "code",
   "execution_count": 12,
   "id": "88f20fa0-a3ca-4ed3-a5c2-7ddcf519c7e4",
   "metadata": {},
   "outputs": [
    {
     "data": {
      "text/plain": [
       "0.49515102188632765"
      ]
     },
     "execution_count": 12,
     "metadata": {},
     "output_type": "execute_result"
    }
   ],
   "source": [
    "model.score(X_test,y_test)"
   ]
  },
  {
   "cell_type": "code",
   "execution_count": 13,
   "id": "e1557686-6e3f-43da-b771-35f208f532b2",
   "metadata": {},
   "outputs": [
    {
     "data": {
      "text/plain": [
       "0.4379769586169707"
      ]
     },
     "execution_count": 13,
     "metadata": {},
     "output_type": "execute_result"
    }
   ],
   "source": [
    "model.score(X_train,y_train)"
   ]
  },
  {
   "cell_type": "code",
   "execution_count": null,
   "id": "8b4a3286-f78f-4846-9bb8-218dab5a3dc3",
   "metadata": {},
   "outputs": [],
   "source": []
  }
 ],
 "metadata": {
  "kernelspec": {
   "display_name": "Python 3 (ipykernel)",
   "language": "python",
   "name": "python3"
  },
  "language_info": {
   "codemirror_mode": {
    "name": "ipython",
    "version": 3
   },
   "file_extension": ".py",
   "mimetype": "text/x-python",
   "name": "python",
   "nbconvert_exporter": "python",
   "pygments_lexer": "ipython3",
   "version": "3.9.12"
  }
 },
 "nbformat": 4,
 "nbformat_minor": 5
}
