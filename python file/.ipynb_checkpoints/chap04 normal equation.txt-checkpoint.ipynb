{
 "cells": [
  {
   "cell_type": "markdown",
   "id": "9d133a35-113e-4a6d-9662-64e39a5f4537",
   "metadata": {},
   "source": [
    "\n",
    "## 　セクション4 正規方程式\n",
    "- 正規方程式は最急降下法を使わずに解析的に最適なパラメータθを求める方程式\n",
    "- 一発で確実に解を求めることが可能\n",
    "- 線形回帰のモデルのみ可能\n",
    "\n",
    "### 正規方程式をスクラッチで実装する\n",
    "1. Xを作成\n",
    "2. yとXを使って正規方程式でθを求める\n",
    "3. 結果を最急降下法と比較する形で描画"
   ]
  },
  {
   "cell_type": "code",
   "execution_count": 1,
   "id": "ec385a2c-4f31-4206-9f9b-7bf81f01d788",
   "metadata": {},
   "outputs": [],
   "source": [
    "import pandas as pd\n",
    "import numpy as np\n",
    "import matplotlib.pyplot as plt \n",
    "%matplotlib inline\n",
    "import seaborn as sns"
   ]
  },
  {
   "cell_type": "code",
   "execution_count": 8,
   "id": "789aa323-5a84-4386-b896-4bdc90be435e",
   "metadata": {},
   "outputs": [
    {
     "data": {
      "text/html": [
       "<div>\n",
       "<style scoped>\n",
       "    .dataframe tbody tr th:only-of-type {\n",
       "        vertical-align: middle;\n",
       "    }\n",
       "\n",
       "    .dataframe tbody tr th {\n",
       "        vertical-align: top;\n",
       "    }\n",
       "\n",
       "    .dataframe thead th {\n",
       "        text-align: right;\n",
       "    }\n",
       "</style>\n",
       "<table border=\"1\" class=\"dataframe\">\n",
       "  <thead>\n",
       "    <tr style=\"text-align: right;\">\n",
       "      <th></th>\n",
       "      <th>space</th>\n",
       "      <th>rent</th>\n",
       "    </tr>\n",
       "  </thead>\n",
       "  <tbody>\n",
       "    <tr>\n",
       "      <th>0</th>\n",
       "      <td>20</td>\n",
       "      <td>13.958824</td>\n",
       "    </tr>\n",
       "    <tr>\n",
       "      <th>1</th>\n",
       "      <td>25</td>\n",
       "      <td>11.533805</td>\n",
       "    </tr>\n",
       "    <tr>\n",
       "      <th>2</th>\n",
       "      <td>28</td>\n",
       "      <td>14.269547</td>\n",
       "    </tr>\n",
       "    <tr>\n",
       "      <th>3</th>\n",
       "      <td>30</td>\n",
       "      <td>18.722680</td>\n",
       "    </tr>\n",
       "    <tr>\n",
       "      <th>4</th>\n",
       "      <td>36</td>\n",
       "      <td>19.602674</td>\n",
       "    </tr>\n",
       "  </tbody>\n",
       "</table>\n",
       "</div>"
      ],
      "text/plain": [
       "   space       rent\n",
       "0     20  13.958824\n",
       "1     25  11.533805\n",
       "2     28  14.269547\n",
       "3     30  18.722680\n",
       "4     36  19.602674"
      ]
     },
     "execution_count": 8,
     "metadata": {},
     "output_type": "execute_result"
    }
   ],
   "source": [
    "df = pd.read_csv('../sample_data.csv')\n",
    "df.head()"
   ]
  },
  {
   "cell_type": "code",
   "execution_count": 36,
   "id": "49ee407f-8118-4681-849d-d4317cfaed7d",
   "metadata": {},
   "outputs": [
    {
     "data": {
      "text/plain": [
       "array([[0.38782297]])"
      ]
     },
     "execution_count": 36,
     "metadata": {},
     "output_type": "execute_result"
    }
   ],
   "source": [
    "x = df['space']\n",
    "X = x.values\n",
    "X = X.reshape(10,1)\n",
    "y = df['rent'].values\n",
    "y = y.reshape(10,1)\n",
    "theta = np.linalg.inv(np.dot(X.T,X)).dot(X.T).dot(y)\n",
    "theta"
   ]
  },
  {
   "cell_type": "markdown",
   "id": "e9968614-8ed2-4f01-8765-e4dd632ab047",
   "metadata": {},
   "source": [
    "### 模範解答\n"
   ]
  },
  {
   "cell_type": "code",
   "execution_count": 33,
   "id": "d3bcb1ba-e580-48e6-a2b5-7d5d9f4257d0",
   "metadata": {},
   "outputs": [
    {
     "data": {
      "text/plain": [
       "array([7.0962325 , 0.27487161])"
      ]
     },
     "execution_count": 33,
     "metadata": {},
     "output_type": "execute_result"
    }
   ],
   "source": [
    "x = df['space'].values\n",
    "y = df['rent'].values\n",
    "\n",
    "X = np.vstack([np.ones(len(x)), x]).T\n",
    "best_theta = np.linalg.inv(X.T.dot(X)).dot(X.T).dot(y.T)\n",
    "best_theta"
   ]
  },
  {
   "cell_type": "markdown",
   "id": "486370e9-c8f6-46db-b2a4-c5a260f4f1f2",
   "metadata": {},
   "source": [
    "### scikit-learnで線形化回帰"
   ]
  },
  {
   "cell_type": "code",
   "execution_count": 46,
   "id": "5ee7135e-ccab-4714-9d41-9c0ee9644e7d",
   "metadata": {},
   "outputs": [
    {
     "data": {
      "text/html": [
       "<div>\n",
       "<style scoped>\n",
       "    .dataframe tbody tr th:only-of-type {\n",
       "        vertical-align: middle;\n",
       "    }\n",
       "\n",
       "    .dataframe tbody tr th {\n",
       "        vertical-align: top;\n",
       "    }\n",
       "\n",
       "    .dataframe thead th {\n",
       "        text-align: right;\n",
       "    }\n",
       "</style>\n",
       "<table border=\"1\" class=\"dataframe\">\n",
       "  <thead>\n",
       "    <tr style=\"text-align: right;\">\n",
       "      <th></th>\n",
       "      <th>space</th>\n",
       "      <th>rent</th>\n",
       "      <th>pred_rent</th>\n",
       "    </tr>\n",
       "  </thead>\n",
       "  <tbody>\n",
       "    <tr>\n",
       "      <th>0</th>\n",
       "      <td>20</td>\n",
       "      <td>13.958824</td>\n",
       "      <td>12.593665</td>\n",
       "    </tr>\n",
       "    <tr>\n",
       "      <th>1</th>\n",
       "      <td>25</td>\n",
       "      <td>11.533805</td>\n",
       "      <td>13.968023</td>\n",
       "    </tr>\n",
       "    <tr>\n",
       "      <th>2</th>\n",
       "      <td>28</td>\n",
       "      <td>14.269547</td>\n",
       "      <td>14.792638</td>\n",
       "    </tr>\n",
       "    <tr>\n",
       "      <th>3</th>\n",
       "      <td>30</td>\n",
       "      <td>18.722680</td>\n",
       "      <td>15.342381</td>\n",
       "    </tr>\n",
       "    <tr>\n",
       "      <th>4</th>\n",
       "      <td>36</td>\n",
       "      <td>19.602674</td>\n",
       "      <td>16.991610</td>\n",
       "    </tr>\n",
       "    <tr>\n",
       "      <th>5</th>\n",
       "      <td>51</td>\n",
       "      <td>16.068166</td>\n",
       "      <td>21.114685</td>\n",
       "    </tr>\n",
       "    <tr>\n",
       "      <th>6</th>\n",
       "      <td>55</td>\n",
       "      <td>23.183599</td>\n",
       "      <td>22.214171</td>\n",
       "    </tr>\n",
       "    <tr>\n",
       "      <th>7</th>\n",
       "      <td>62</td>\n",
       "      <td>22.212595</td>\n",
       "      <td>24.138272</td>\n",
       "    </tr>\n",
       "    <tr>\n",
       "      <th>8</th>\n",
       "      <td>83</td>\n",
       "      <td>29.357010</td>\n",
       "      <td>29.910576</td>\n",
       "    </tr>\n",
       "    <tr>\n",
       "      <th>9</th>\n",
       "      <td>103</td>\n",
       "      <td>37.565129</td>\n",
       "      <td>35.408008</td>\n",
       "    </tr>\n",
       "  </tbody>\n",
       "</table>\n",
       "</div>"
      ],
      "text/plain": [
       "   space       rent  pred_rent\n",
       "0     20  13.958824  12.593665\n",
       "1     25  11.533805  13.968023\n",
       "2     28  14.269547  14.792638\n",
       "3     30  18.722680  15.342381\n",
       "4     36  19.602674  16.991610\n",
       "5     51  16.068166  21.114685\n",
       "6     55  23.183599  22.214171\n",
       "7     62  22.212595  24.138272\n",
       "8     83  29.357010  29.910576\n",
       "9    103  37.565129  35.408008"
      ]
     },
     "execution_count": 46,
     "metadata": {},
     "output_type": "execute_result"
    }
   ],
   "source": [
    "from sklearn.linear_model import LinearRegression\n",
    "x = df['space'].values.reshape(10,1)\n",
    "y = df['rent']\n",
    "model = LinearRegression()\n",
    "model.fit(x,y)\n",
    "pred_y = model.predict(x)\n",
    "df['pred_rent'] = pred_y\n",
    "df"
   ]
  },
  {
   "cell_type": "code",
   "execution_count": null,
   "id": "0171755b-9bde-4543-8117-cc97f91741ed",
   "metadata": {},
   "outputs": [],
   "source": []
  }
 ],
 "metadata": {
  "kernelspec": {
   "display_name": "Python 3 (ipykernel)",
   "language": "python",
   "name": "python3"
  },
  "language_info": {
   "codemirror_mode": {
    "name": "ipython",
    "version": 3
   },
   "file_extension": ".py",
   "mimetype": "text/x-python",
   "name": "python",
   "nbconvert_exporter": "python",
   "pygments_lexer": "ipython3",
   "version": "3.9.12"
  }
 },
 "nbformat": 4,
 "nbformat_minor": 5
}
