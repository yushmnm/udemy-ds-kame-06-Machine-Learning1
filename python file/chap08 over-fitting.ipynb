{
 "cells": [
  {
   "cell_type": "markdown",
   "id": "41089039-c909-416c-8436-fb81048db917",
   "metadata": {},
   "source": [
    "## セクション８　汎化性能と過学習\n",
    "- hold-out\n",
    "- LOOCV\n",
    "- K-fold  \n",
    "※特徴量スケーリングでテストデータを処理するときは、学習データのパラメータを使用\n"
   ]
  },
  {
   "cell_type": "code",
   "execution_count": 59,
   "id": "12ce88e3-969e-40b2-8e56-18349fbf1a79",
   "metadata": {},
   "outputs": [],
   "source": [
    "import numpy as np\n",
    "import pandas as pd\n",
    "import seaborn as sns\n",
    "from sklearn.model_selection import train_test_split\n",
    "from sklearn.preprocessing import StandardScaler\n",
    "from sklearn.metrics import mean_squared_error\n",
    "from sklearn.model_selection import LeaveOneOut\n",
    "from sklearn.model_selection import cross_val_score\n",
    "from sklearn.model_selection import KFold,RepeatedKFold\n",
    "from sklearn.pipeline import Pipeline"
   ]
  },
  {
   "cell_type": "markdown",
   "id": "4f583714-99e1-4861-8702-e0cf6f26a409",
   "metadata": {},
   "source": [
    "### hold-out法"
   ]
  },
  {
   "cell_type": "code",
   "execution_count": 10,
   "id": "42d5ad1a-a131-4bc4-b17c-88969777fc1b",
   "metadata": {},
   "outputs": [],
   "source": [
    "df = sns.load_dataset('tips')\n",
    "y_col = 'tip'\n",
    "X = df.drop(columns=[y_col])\n",
    "# 標準化のために数値カラムのリストを取得\n",
    "numeric_cols = X.select_dtypes(include=np.number).columns.to_list()\n",
    "X = pd.get_dummies(X, drop_first=True)\n",
    "y = df[y_col]\n",
    "X_train, X_test, y_train, y_test = train_test_split(X, y, test_size=0.3, random_state=0)"
   ]
  },
  {
   "cell_type": "code",
   "execution_count": 11,
   "id": "35ced083-9f90-47e6-993b-2b339de9f5b4",
   "metadata": {},
   "outputs": [
    {
     "name": "stdout",
     "output_type": "stream",
     "text": [
      "170\n",
      "74\n"
     ]
    }
   ],
   "source": [
    "# 分割後のデータ数を確認\n",
    "print(len(X_train))\n",
    "print(len(X_test))"
   ]
  },
  {
   "cell_type": "code",
   "execution_count": 16,
   "id": "14b01c48-6f5a-46a7-8e45-7a7668b1035a",
   "metadata": {},
   "outputs": [],
   "source": [
    "# 標準化\n",
    "# 標準化は，データ分割の後に実施する\n",
    "sc = StandardScaler()\n",
    "\n",
    "#　元のX＿trainを更新すると厄介なので、コピーする\n",
    "X_train_sc = X_train.copy()\n",
    "#　ダミー変数以外の数値データを標準化する\n",
    "X_train_sc[numeric_cols] = sc.fit_transform(X_train[numeric_cols]) \n",
    "\n",
    "X_test_sc = X_test.copy()\n",
    "#　すでに学習データすでに学習データでフィットさせているので、transformだけで良い。\n",
    "# fitさせるとテストデータを使って標準化することになってしまう。\n",
    "X_test_sc[numeric_cols] = sc.transform(X_test[numeric_cols])\n"
   ]
  },
  {
   "cell_type": "code",
   "execution_count": 19,
   "id": "2198f37b-c7e5-41ca-b633-9cd1f6be51e5",
   "metadata": {},
   "outputs": [],
   "source": [
    "# 線形回帰モデル学習\n",
    "from sklearn.linear_model import LinearRegression\n",
    "model = LinearRegression()\n",
    "model.fit(X_train_sc, y_train)\n",
    "y_pred = model.predict(X_test_sc)"
   ]
  },
  {
   "cell_type": "code",
   "execution_count": 21,
   "id": "23cc0cc0-c924-479e-ac8f-34a8ec4f52ee",
   "metadata": {},
   "outputs": [
    {
     "data": {
      "text/plain": [
       "0.955080898861715"
      ]
     },
     "execution_count": 21,
     "metadata": {},
     "output_type": "execute_result"
    }
   ],
   "source": [
    "# MSEの算出\n",
    "mean_squared_error(y_test,y_pred)"
   ]
  },
  {
   "cell_type": "markdown",
   "id": "abc04ade-6e65-46a5-afea-96e735bd765c",
   "metadata": {},
   "source": [
    "### LOOCV(Leave-one-out)\n",
    "- 1.LOOモジュール\n",
    "- 2.Cross validationに分けて実行"
   ]
  },
  {
   "cell_type": "code",
   "execution_count": 45,
   "id": "67329c2a-0aed-443d-b843-58ec299bc395",
   "metadata": {},
   "outputs": [
    {
     "data": {
      "text/plain": [
       "0.011624611173673088"
      ]
     },
     "execution_count": 45,
     "metadata": {},
     "output_type": "execute_result"
    }
   ],
   "source": [
    "##　自分で実装\n",
    "df = sns.load_dataset('tips')\n",
    "y_col = 'tip'\n",
    "X = df['total_bill'].values.reshape(-1,1)\n",
    "y = df[y_col]\n",
    "\n",
    "\n",
    "loo = LeaveOneOut()\n",
    "model = LinearRegression()\n",
    "y_preds = []\n",
    "#　学習データとテストデータのインデックスを出力\n",
    "for train_idx,test_idx in loo.split(X):\n",
    "    X_train,X_test = X[train_idx],X[test_idx]\n",
    "    y_train,y_test = y[train_idx],y[test_idx]\n",
    "    model.fit(X_train,y_train)\n",
    "    y_pred = model.predict(X_test)\n",
    "    y_preds.append(y_pred)\n",
    "mse = mean_squared_error(y_test,y_pred)\n",
    "mse"
   ]
  },
  {
   "cell_type": "markdown",
   "id": "bcfd94e3-a9af-4289-90fc-509860559593",
   "metadata": {},
   "source": [
    "## LOOCV模範解答"
   ]
  },
  {
   "cell_type": "code",
   "execution_count": 46,
   "id": "9d025076-80e7-4bf0-b139-f841419e50bb",
   "metadata": {},
   "outputs": [
    {
     "name": "stdout",
     "output_type": "stream",
     "text": [
      "MSE(LOOCV):1.0675673489857438\n",
      "std:2.0997944551776313\n"
     ]
    }
   ],
   "source": [
    "model = LinearRegression()\n",
    "mse_list = []\n",
    "for train_index, test_index in loo.split(X):\n",
    "    X_train, X_test = X[train_index], X[test_index]\n",
    "    y_train, y_test = y[train_index], y[test_index]\n",
    "    \n",
    "    # モデル学習\n",
    "    model.fit(X_train, y_train)\n",
    "    # テストデータの予測\n",
    "    y_pred = model.predict(X_test)\n",
    "    # MSE\n",
    "    mse = mean_squared_error(y_test, y_pred)\n",
    "    mse_list.append(mse)\n",
    "print(f\"MSE(LOOCV):{np.mean(mse_list)}\")\n",
    "print(f\"std:{np.std(mse_list)}\")"
   ]
  },
  {
   "cell_type": "markdown",
   "id": "2c9ee688-45cf-44c8-82d1-081ef4a73156",
   "metadata": {},
   "source": [
    "### Cross_val_scoreを使う方法"
   ]
  },
  {
   "cell_type": "code",
   "execution_count": 47,
   "id": "98c3400e-ce9d-4d42-ac5d-074cd272c093",
   "metadata": {},
   "outputs": [
    {
     "name": "stdout",
     "output_type": "stream",
     "text": [
      "MSE(LOOCV):1.0675673489857438\n",
      "std:2.0997944551776313\n"
     ]
    }
   ],
   "source": [
    "cv = LeaveOneOut()\n",
    "scores = cross_val_score(model, X, y, cv=cv, scoring='neg_mean_squared_error')\n",
    "print(f\"MSE(LOOCV):{-np.mean(scores)}\")\n",
    "print(f\"std:{np.std(scores)}\")"
   ]
  },
  {
   "cell_type": "markdown",
   "id": "4ca06771-f4be-4d16-8fe8-e540f6f12596",
   "metadata": {},
   "source": [
    "## K-fold CV\n",
    "- 一番使われる評価指標\n",
    "- LOOCVよりコストが低い\n",
    "- データをk個に分割して交差検証を行う"
   ]
  },
  {
   "cell_type": "code",
   "execution_count": 53,
   "id": "17a9292f-b49d-47b0-b177-b469b22d900c",
   "metadata": {},
   "outputs": [
    {
     "name": "stdout",
     "output_type": "stream",
     "text": [
      "MSE 5 FoldCV): 1.168619658041242\n",
      "std: 0.18808285556593823\n"
     ]
    }
   ],
   "source": [
    "##　自分で実装\n",
    "df = sns.load_dataset('tips')\n",
    "y_col = 'tip'\n",
    "X = df.drop(columns=[y_col])\n",
    "# 標準化のために数値カラムのリストを取得\n",
    "numeric_cols = X.select_dtypes(include=np.number).columns.to_list()\n",
    "X = pd.get_dummies(X, drop_first=True)\n",
    "y = df[y_col]\n",
    "\n",
    "model = LinearRegression()\n",
    "cv = KFold(n_splits=5,shuffle=True ,random_state=0)\n",
    "cross_val_score(estimator=model, X=X, y=y,cv=cv, scoring='neg_mean_squared_error')\n",
    "\n",
    "# 同様にcross_val_scoreで簡単に実施可能\n",
    "print(f\"MSE 5 FoldCV): {-np.mean(scores)}\")\n",
    "print(f\"std: {np.std(scores)}\")"
   ]
  },
  {
   "cell_type": "markdown",
   "id": "b7a0b5a2-0426-400c-a37a-7629a707c297",
   "metadata": {},
   "source": [
    "### Repeated k-fold cv\n",
    "- kFoldを複数回実施\n",
    "- n_repeats引数に回数を指定\n",
    "- そのほかはkfoldと同じ"
   ]
  },
  {
   "cell_type": "code",
   "execution_count": 58,
   "id": "8d153514-eba8-4cd9-9ecb-f7daf1da5660",
   "metadata": {},
   "outputs": [
    {
     "data": {
      "text/plain": [
       "array([-0.89391952, -1.10133223, -1.41313748, -1.34453334, -1.09017572,\n",
       "       -1.14902031, -1.58845751, -1.08426032, -0.79808926, -0.91573102,\n",
       "       -0.92845031, -1.73725679, -0.72522842, -1.15657763, -1.19620839,\n",
       "       -0.90981594, -1.26451304, -0.84320185, -0.9138454 , -1.50926067,\n",
       "       -1.01472258, -0.73786051, -1.13736158, -1.33445047, -1.54803209])"
      ]
     },
     "execution_count": 58,
     "metadata": {},
     "output_type": "execute_result"
    }
   ],
   "source": [
    "R_cv = RepeatedKFold(n_splits=5,n_repeats=5,random_state=0)\n",
    "mse_list = cross_val_score(estimator=model, X=X, y=y,cv=R_cv, scoring='neg_mean_squared_error')\n",
    "mse_list\n"
   ]
  },
  {
   "cell_type": "markdown",
   "id": "c543aa09-1647-4945-9f66-d81d1d89a04d",
   "metadata": {
    "tags": []
   },
   "source": [
    "## スクラッチで交差検証を実装すると標準化をfor文中に組み込めるが、cross_val_score()を使うと組み込めない\n",
    "### Pipelineの構築\n",
    "- Piplelineオブジェクトを使うことで複数の処理をまとめることができる  \n",
    " 引数stepsに[('処理名１',クラス()),('処理名２',クラス()),...])の形で記述"
   ]
  },
  {
   "cell_type": "markdown",
   "id": "c3d31e5a-5acf-42f3-b77f-eabb66a34553",
   "metadata": {},
   "source": [
    "### pipeline + K-fold"
   ]
  },
  {
   "cell_type": "code",
   "execution_count": 60,
   "id": "d1ad2853-ce01-4f4d-a474-45ba166e7b18",
   "metadata": {},
   "outputs": [
    {
     "data": {
      "text/plain": [
       "array([-0.89391952, -1.10133223, -1.41313748, -1.34453334, -1.09017572])"
      ]
     },
     "execution_count": 60,
     "metadata": {},
     "output_type": "execute_result"
    }
   ],
   "source": [
    "pipeline = Pipeline(steps=[('scaler',StandardScaler()),('model',LinearRegression())])\n",
    "cv = KFold(n_splits=5,shuffle=True,random_state=0)\n",
    "scores =cross_val_score(pipeline,X,y,cv=cv,scoring='neg_mean_squared_error')\n",
    "scores"
   ]
  },
  {
   "cell_type": "code",
   "execution_count": 64,
   "id": "35879488-bb0b-4a0b-b202-a4e1aa42eb30",
   "metadata": {},
   "outputs": [
    {
     "data": {
      "text/plain": [
       "array([2.82249035, 2.97504474, 2.8260184 , 1.38113692, 3.15154584,\n",
       "       1.72121268, 2.48332645, 3.03579004, 2.75176346, 4.52560955,\n",
       "       3.1133346 , 3.14781575, 2.33198109, 2.11518372, 2.93262778,\n",
       "       4.27846609, 1.83157994, 2.26626275, 2.31085596, 3.24382161,\n",
       "       3.81889336, 2.85616455, 2.42949782, 2.42039736, 2.20253234,\n",
       "       2.42509643, 2.81777778, 4.70274951, 3.81268552, 2.38673795,\n",
       "       2.29194112, 2.20803273, 2.45503466, 1.7743294 , 2.71663745,\n",
       "       2.22913684, 2.72146912, 2.01205852, 5.85346207, 3.49435578,\n",
       "       2.26246168, 2.20347519, 2.50905642, 4.41646769, 1.97212663,\n",
       "       2.78445294, 2.65274212, 3.01652357, 2.73423023, 3.95761528,\n",
       "       3.9498931 , 2.53992971, 2.71758399, 6.35620823, 1.7434279 ,\n",
       "       2.33450139, 4.23562521, 3.29319236, 2.41114285, 2.20345847,\n",
       "       3.72455103, 2.29099827, 3.04008335, 3.74539008, 4.01431996,\n",
       "       2.26547605, 2.66047323, 3.84238482, 2.17921165, 3.87859588,\n",
       "       2.59899485, 1.94814647, 3.70801825, 2.11341037])"
      ]
     },
     "execution_count": 64,
     "metadata": {},
     "output_type": "execute_result"
    }
   ],
   "source": [
    "## Pipelineなし\n",
    "# 標準化 + 線形回帰\n",
    "X_train, X_test, y_train, y_test = train_test_split(X, y, test_size=0.3, random_state=0)\n",
    "model = LinearRegression()\n",
    "scaler = StandardScaler()\n",
    "X_train_scaled = scaler.fit_transform(X_train)\n",
    "X_test_scaled = scaler.transform(X_test)\n",
    "model.fit(X_train_scaled, y_train)\n",
    "y_pred = model.predict(X_test_scaled)\n",
    "y_pred"
   ]
  },
  {
   "cell_type": "code",
   "execution_count": 65,
   "id": "20c972a6-eb0c-41a4-93f4-53bef46d6e3d",
   "metadata": {},
   "outputs": [
    {
     "data": {
      "text/plain": [
       "array([2.82249035, 2.97504474, 2.8260184 , 1.38113692, 3.15154584,\n",
       "       1.72121268, 2.48332645, 3.03579004, 2.75176346, 4.52560955,\n",
       "       3.1133346 , 3.14781575, 2.33198109, 2.11518372, 2.93262778,\n",
       "       4.27846609, 1.83157994, 2.26626275, 2.31085596, 3.24382161,\n",
       "       3.81889336, 2.85616455, 2.42949782, 2.42039736, 2.20253234,\n",
       "       2.42509643, 2.81777778, 4.70274951, 3.81268552, 2.38673795,\n",
       "       2.29194112, 2.20803273, 2.45503466, 1.7743294 , 2.71663745,\n",
       "       2.22913684, 2.72146912, 2.01205852, 5.85346207, 3.49435578,\n",
       "       2.26246168, 2.20347519, 2.50905642, 4.41646769, 1.97212663,\n",
       "       2.78445294, 2.65274212, 3.01652357, 2.73423023, 3.95761528,\n",
       "       3.9498931 , 2.53992971, 2.71758399, 6.35620823, 1.7434279 ,\n",
       "       2.33450139, 4.23562521, 3.29319236, 2.41114285, 2.20345847,\n",
       "       3.72455103, 2.29099827, 3.04008335, 3.74539008, 4.01431996,\n",
       "       2.26547605, 2.66047323, 3.84238482, 2.17921165, 3.87859588,\n",
       "       2.59899485, 1.94814647, 3.70801825, 2.11341037])"
      ]
     },
     "execution_count": 65,
     "metadata": {},
     "output_type": "execute_result"
    }
   ],
   "source": [
    "# pipelineあり\n",
    "X_train, X_test, y_train, y_test = train_test_split(X, y, test_size=0.3, random_state=0)\n",
    "pipeline = Pipeline(steps=[('scaler',StandardScaler()),('model',LinearRegression())])\n",
    "pipeline.fit(X_train,y_train)\n",
    "y_pred_p = pipeline.predict(X_test)\n",
    "y_pred_p"
   ]
  },
  {
   "cell_type": "code",
   "execution_count": null,
   "id": "81530e5d-0fd8-432b-b68a-279b0b735d07",
   "metadata": {},
   "outputs": [],
   "source": []
  }
 ],
 "metadata": {
  "kernelspec": {
   "display_name": "Python 3 (ipykernel)",
   "language": "python",
   "name": "python3"
  },
  "language_info": {
   "codemirror_mode": {
    "name": "ipython",
    "version": 3
   },
   "file_extension": ".py",
   "mimetype": "text/x-python",
   "name": "python",
   "nbconvert_exporter": "python",
   "pygments_lexer": "ipython3",
   "version": "3.9.12"
  }
 },
 "nbformat": 4,
 "nbformat_minor": 5
}
