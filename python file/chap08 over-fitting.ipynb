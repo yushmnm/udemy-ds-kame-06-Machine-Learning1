{
 "cells": [
  {
   "cell_type": "markdown",
   "id": "41089039-c909-416c-8436-fb81048db917",
   "metadata": {},
   "source": [
    "## セクション８　汎化性能と過学習\n",
    "- hold-out\n",
    "- LOOCV\n",
    "- K-fold  \n",
    "※特徴量スケーリングでテストデータを処理するときは、学習データのパラメータを使用\n"
   ]
  },
  {
   "cell_type": "code",
   "execution_count": null,
   "id": "5ead015e-0ddd-4cfe-b4be-1f0eb2e36ab6",
   "metadata": {},
   "outputs": [],
   "source": []
  }
 ],
 "metadata": {
  "kernelspec": {
   "display_name": "Python 3 (ipykernel)",
   "language": "python",
   "name": "python3"
  },
  "language_info": {
   "codemirror_mode": {
    "name": "ipython",
    "version": 3
   },
   "file_extension": ".py",
   "mimetype": "text/x-python",
   "name": "python",
   "nbconvert_exporter": "python",
   "pygments_lexer": "ipython3",
   "version": "3.9.12"
  }
 },
 "nbformat": 4,
 "nbformat_minor": 5
}
