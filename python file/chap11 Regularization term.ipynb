{
 "cells": [
  {
   "cell_type": "markdown",
   "id": "9e386cca-514b-4728-872a-92c064ee7451",
   "metadata": {},
   "source": [
    "## 正則化項\n",
    "- 線形回帰の精度と解釈性をさらに向上させる\n",
    "- 最小二乗法の損失関数の式に正則化項と呼ばれるペナルティを課す項つける\n",
    "- パラメータθが大きくなると損失が増えるようにする　"
   ]
  },
  {
   "cell_type": "markdown",
   "id": "2438eeb5-f78f-4477-96b6-519207edf76b",
   "metadata": {},
   "source": [
    "### Rideg回帰\n",
    "- L2ノルムの正則化項を使用\n",
    "- λ（正則化係数）を大きくするにつれて特徴量の係数は小さくなsる\n",
    "- 特徴量同士のスケールが影響するので、事前に特徴量スケーリング必要\n",
    "- 学習後、全ての計数が残る"
   ]
  },
  {
   "cell_type": "code",
   "execution_count": 33,
   "id": "bb70b0da-c447-4586-81bf-20fd96546d2a",
   "metadata": {},
   "outputs": [],
   "source": [
    "import pandas as pd\n",
    "from sklearn.linear_model import Ridge,LinearRegression,Lasso\n",
    "from sklearn.model_selection import train_test_split\n",
    "from sklearn.preprocessing import StandardScaler\n",
    "import numpy as np\n",
    "import matplotlib.pyplot as plt\n",
    "import seaborn as sns\n",
    "from sklearn.metrics import mean_squared_error,mean_absolute_error"
   ]
  },
  {
   "cell_type": "code",
   "execution_count": 6,
   "id": "796de5b6-6323-4e9d-9e36-7b380e325cdd",
   "metadata": {},
   "outputs": [
    {
     "data": {
      "text/html": [
       "<div>\n",
       "<style scoped>\n",
       "    .dataframe tbody tr th:only-of-type {\n",
       "        vertical-align: middle;\n",
       "    }\n",
       "\n",
       "    .dataframe tbody tr th {\n",
       "        vertical-align: top;\n",
       "    }\n",
       "\n",
       "    .dataframe thead th {\n",
       "        text-align: right;\n",
       "    }\n",
       "</style>\n",
       "<table border=\"1\" class=\"dataframe\">\n",
       "  <thead>\n",
       "    <tr style=\"text-align: right;\">\n",
       "      <th></th>\n",
       "      <th>AtBat</th>\n",
       "      <th>Hits</th>\n",
       "      <th>HmRun</th>\n",
       "      <th>Runs</th>\n",
       "      <th>RBI</th>\n",
       "      <th>Walks</th>\n",
       "      <th>Years</th>\n",
       "      <th>CAtBat</th>\n",
       "      <th>CHits</th>\n",
       "      <th>CHmRun</th>\n",
       "      <th>CRuns</th>\n",
       "      <th>CRBI</th>\n",
       "      <th>CWalks</th>\n",
       "      <th>League</th>\n",
       "      <th>Division</th>\n",
       "      <th>PutOuts</th>\n",
       "      <th>Assists</th>\n",
       "      <th>Errors</th>\n",
       "      <th>Salary</th>\n",
       "      <th>NewLeague</th>\n",
       "    </tr>\n",
       "  </thead>\n",
       "  <tbody>\n",
       "    <tr>\n",
       "      <th>1</th>\n",
       "      <td>315</td>\n",
       "      <td>81</td>\n",
       "      <td>7</td>\n",
       "      <td>24</td>\n",
       "      <td>38</td>\n",
       "      <td>39</td>\n",
       "      <td>14</td>\n",
       "      <td>3449</td>\n",
       "      <td>835</td>\n",
       "      <td>69</td>\n",
       "      <td>321</td>\n",
       "      <td>414</td>\n",
       "      <td>375</td>\n",
       "      <td>N</td>\n",
       "      <td>W</td>\n",
       "      <td>632</td>\n",
       "      <td>43</td>\n",
       "      <td>10</td>\n",
       "      <td>475.0</td>\n",
       "      <td>N</td>\n",
       "    </tr>\n",
       "    <tr>\n",
       "      <th>2</th>\n",
       "      <td>479</td>\n",
       "      <td>130</td>\n",
       "      <td>18</td>\n",
       "      <td>66</td>\n",
       "      <td>72</td>\n",
       "      <td>76</td>\n",
       "      <td>3</td>\n",
       "      <td>1624</td>\n",
       "      <td>457</td>\n",
       "      <td>63</td>\n",
       "      <td>224</td>\n",
       "      <td>266</td>\n",
       "      <td>263</td>\n",
       "      <td>A</td>\n",
       "      <td>W</td>\n",
       "      <td>880</td>\n",
       "      <td>82</td>\n",
       "      <td>14</td>\n",
       "      <td>480.0</td>\n",
       "      <td>A</td>\n",
       "    </tr>\n",
       "    <tr>\n",
       "      <th>3</th>\n",
       "      <td>496</td>\n",
       "      <td>141</td>\n",
       "      <td>20</td>\n",
       "      <td>65</td>\n",
       "      <td>78</td>\n",
       "      <td>37</td>\n",
       "      <td>11</td>\n",
       "      <td>5628</td>\n",
       "      <td>1575</td>\n",
       "      <td>225</td>\n",
       "      <td>828</td>\n",
       "      <td>838</td>\n",
       "      <td>354</td>\n",
       "      <td>N</td>\n",
       "      <td>E</td>\n",
       "      <td>200</td>\n",
       "      <td>11</td>\n",
       "      <td>3</td>\n",
       "      <td>500.0</td>\n",
       "      <td>N</td>\n",
       "    </tr>\n",
       "    <tr>\n",
       "      <th>4</th>\n",
       "      <td>321</td>\n",
       "      <td>87</td>\n",
       "      <td>10</td>\n",
       "      <td>39</td>\n",
       "      <td>42</td>\n",
       "      <td>30</td>\n",
       "      <td>2</td>\n",
       "      <td>396</td>\n",
       "      <td>101</td>\n",
       "      <td>12</td>\n",
       "      <td>48</td>\n",
       "      <td>46</td>\n",
       "      <td>33</td>\n",
       "      <td>N</td>\n",
       "      <td>E</td>\n",
       "      <td>805</td>\n",
       "      <td>40</td>\n",
       "      <td>4</td>\n",
       "      <td>91.5</td>\n",
       "      <td>N</td>\n",
       "    </tr>\n",
       "    <tr>\n",
       "      <th>5</th>\n",
       "      <td>594</td>\n",
       "      <td>169</td>\n",
       "      <td>4</td>\n",
       "      <td>74</td>\n",
       "      <td>51</td>\n",
       "      <td>35</td>\n",
       "      <td>11</td>\n",
       "      <td>4408</td>\n",
       "      <td>1133</td>\n",
       "      <td>19</td>\n",
       "      <td>501</td>\n",
       "      <td>336</td>\n",
       "      <td>194</td>\n",
       "      <td>A</td>\n",
       "      <td>W</td>\n",
       "      <td>282</td>\n",
       "      <td>421</td>\n",
       "      <td>25</td>\n",
       "      <td>750.0</td>\n",
       "      <td>A</td>\n",
       "    </tr>\n",
       "  </tbody>\n",
       "</table>\n",
       "</div>"
      ],
      "text/plain": [
       "   AtBat  Hits  HmRun  Runs  RBI  Walks  Years  CAtBat  CHits  CHmRun  CRuns  \\\n",
       "1    315    81      7    24   38     39     14    3449    835      69    321   \n",
       "2    479   130     18    66   72     76      3    1624    457      63    224   \n",
       "3    496   141     20    65   78     37     11    5628   1575     225    828   \n",
       "4    321    87     10    39   42     30      2     396    101      12     48   \n",
       "5    594   169      4    74   51     35     11    4408   1133      19    501   \n",
       "\n",
       "   CRBI  CWalks League Division  PutOuts  Assists  Errors  Salary NewLeague  \n",
       "1   414     375      N        W      632       43      10   475.0         N  \n",
       "2   266     263      A        W      880       82      14   480.0         A  \n",
       "3   838     354      N        E      200       11       3   500.0         N  \n",
       "4    46      33      N        E      805       40       4    91.5         N  \n",
       "5   336     194      A        W      282      421      25   750.0         A  "
      ]
     },
     "execution_count": 6,
     "metadata": {},
     "output_type": "execute_result"
    }
   ],
   "source": [
    "df= pd.read_csv('https://raw.githubusercontent.com/kirenz/datasets/master/Hitters.csv')\n",
    "df.dropna(inplace=True)\n",
    "df.head()"
   ]
  },
  {
   "cell_type": "code",
   "execution_count": 38,
   "id": "bee51b82-6e5d-4738-9fa3-bb48c66eff36",
   "metadata": {},
   "outputs": [],
   "source": [
    "#データ準備\n",
    "y_col = 'Salary'\n",
    "X = df.loc[:,df.columns!=y_col]\n",
    "y = df[y_col]\n",
    "numeric_cols = X.select_dtypes(include=np.number).columns.to_list()\n",
    "#ダミー変数化\n",
    "X =pd.get_dummies(X,drop_first=True)\n",
    "\n",
    "X_train,X_test,y_train,y_test = train_test_split(X,y,test_size=0.3, random_state=0)\n",
    "\n",
    "#標準化\n",
    "sc = StandardScaler()\n",
    "X_train[numeric_cols] =sc.fit_transform(X_train[numeric_cols])\n",
    "X_test[numeric_cols] =sc.transform(X_test[numeric_cols])"
   ]
  },
  {
   "cell_type": "code",
   "execution_count": 39,
   "id": "1b1b96f6-e3b0-4eb3-9087-e873906cf386",
   "metadata": {},
   "outputs": [
    {
     "data": {
      "text/plain": [
       "251.0105804238488"
      ]
     },
     "execution_count": 39,
     "metadata": {},
     "output_type": "execute_result"
    }
   ],
   "source": [
    "#モデル作成\n",
    "model = Ridge()\n",
    "model.fit(X_train,y_train)\n",
    "y_pred = model.predict(X_test)\n",
    "\n",
    "#MSE評価\n",
    "mse = mean_squared_error(y_test,y_pred)\n",
    "mae = mean_absolute_error(y_test,y_pred)\n",
    "mae"
   ]
  },
  {
   "cell_type": "code",
   "execution_count": 43,
   "id": "12b1556b-95a3-43cb-af57-8a3743364462",
   "metadata": {},
   "outputs": [
    {
     "data": {
      "text/plain": [
       "255.29028346699457"
      ]
     },
     "execution_count": 43,
     "metadata": {},
     "output_type": "execute_result"
    }
   ],
   "source": [
    "#線形回帰との比較\n",
    "lr = LinearRegression()\n",
    "lr.fit(X_train,y_train)\n",
    "y_pred_lr = lr.predict(X_test)\n",
    "mse = mean_squared_error(y_test,y_pred_lr)\n",
    "mae = mean_absolute_error(y_test,y_pred_lr)\n",
    "mae"
   ]
  },
  {
   "cell_type": "code",
   "execution_count": 46,
   "id": "55ef54fb-75c7-42db-9e01-bbed7ab521d1",
   "metadata": {},
   "outputs": [
    {
     "data": {
      "text/html": [
       "<div>\n",
       "<style scoped>\n",
       "    .dataframe tbody tr th:only-of-type {\n",
       "        vertical-align: middle;\n",
       "    }\n",
       "\n",
       "    .dataframe tbody tr th {\n",
       "        vertical-align: top;\n",
       "    }\n",
       "\n",
       "    .dataframe thead th {\n",
       "        text-align: right;\n",
       "    }\n",
       "</style>\n",
       "<table border=\"1\" class=\"dataframe\">\n",
       "  <thead>\n",
       "    <tr style=\"text-align: right;\">\n",
       "      <th></th>\n",
       "      <th>AtBat</th>\n",
       "      <th>Hits</th>\n",
       "      <th>HmRun</th>\n",
       "      <th>Runs</th>\n",
       "      <th>RBI</th>\n",
       "      <th>Walks</th>\n",
       "      <th>Years</th>\n",
       "      <th>CAtBat</th>\n",
       "      <th>CHits</th>\n",
       "      <th>CHmRun</th>\n",
       "      <th>CRuns</th>\n",
       "      <th>CRBI</th>\n",
       "      <th>CWalks</th>\n",
       "      <th>PutOuts</th>\n",
       "      <th>Assists</th>\n",
       "      <th>Errors</th>\n",
       "      <th>League_N</th>\n",
       "      <th>Division_W</th>\n",
       "      <th>NewLeague_N</th>\n",
       "    </tr>\n",
       "  </thead>\n",
       "  <tbody>\n",
       "    <tr>\n",
       "      <th>0</th>\n",
       "      <td>-255.993525</td>\n",
       "      <td>265.416208</td>\n",
       "      <td>49.854509</td>\n",
       "      <td>-43.441534</td>\n",
       "      <td>6.408273</td>\n",
       "      <td>126.644640</td>\n",
       "      <td>-39.997881</td>\n",
       "      <td>-180.022672</td>\n",
       "      <td>242.394671</td>\n",
       "      <td>-36.096063</td>\n",
       "      <td>281.138520</td>\n",
       "      <td>46.317999</td>\n",
       "      <td>-164.640273</td>\n",
       "      <td>70.888062</td>\n",
       "      <td>41.295514</td>\n",
       "      <td>-34.069226</td>\n",
       "      <td>-8.547247</td>\n",
       "      <td>-97.910751</td>\n",
       "      <td>35.724414</td>\n",
       "    </tr>\n",
       "    <tr>\n",
       "      <th>1</th>\n",
       "      <td>-269.109817</td>\n",
       "      <td>272.908879</td>\n",
       "      <td>59.976695</td>\n",
       "      <td>-55.375124</td>\n",
       "      <td>3.615042</td>\n",
       "      <td>131.082955</td>\n",
       "      <td>-14.782026</td>\n",
       "      <td>-514.201106</td>\n",
       "      <td>550.223699</td>\n",
       "      <td>-12.295546</td>\n",
       "      <td>299.042861</td>\n",
       "      <td>4.606159</td>\n",
       "      <td>-156.781178</td>\n",
       "      <td>73.322378</td>\n",
       "      <td>54.949732</td>\n",
       "      <td>-35.643070</td>\n",
       "      <td>1.592516</td>\n",
       "      <td>-95.022511</td>\n",
       "      <td>28.467986</td>\n",
       "    </tr>\n",
       "  </tbody>\n",
       "</table>\n",
       "</div>"
      ],
      "text/plain": [
       "        AtBat        Hits      HmRun       Runs       RBI       Walks  \\\n",
       "0 -255.993525  265.416208  49.854509 -43.441534  6.408273  126.644640   \n",
       "1 -269.109817  272.908879  59.976695 -55.375124  3.615042  131.082955   \n",
       "\n",
       "       Years      CAtBat       CHits     CHmRun       CRuns       CRBI  \\\n",
       "0 -39.997881 -180.022672  242.394671 -36.096063  281.138520  46.317999   \n",
       "1 -14.782026 -514.201106  550.223699 -12.295546  299.042861   4.606159   \n",
       "\n",
       "       CWalks    PutOuts    Assists     Errors  League_N  Division_W  \\\n",
       "0 -164.640273  70.888062  41.295514 -34.069226 -8.547247  -97.910751   \n",
       "1 -156.781178  73.322378  54.949732 -35.643070  1.592516  -95.022511   \n",
       "\n",
       "   NewLeague_N  \n",
       "0    35.724414  \n",
       "1    28.467986  "
      ]
     },
     "execution_count": 46,
     "metadata": {},
     "output_type": "execute_result"
    }
   ],
   "source": [
    "pd.DataFrame([model.coef_,lr.coef_],columns=X_train.columns )"
   ]
  },
  {
   "cell_type": "markdown",
   "id": "eba5cdbf-3340-4c76-aaf9-fa3bdc56d5c1",
   "metadata": {},
   "source": [
    "### 課題　さまざまなλのRidgeの精度を比較しよう\n",
    "- λ=10**-3 ~ 10**3\n",
    "- hold-outで学習テストとテストデータに分割\n",
    "- MSEを評価指標に\n",
    "- λを増加させた時のMSEの推移をプロット\n",
    "- λを増加させた時の特徴量の係数値の推移プロット"
   ]
  },
  {
   "cell_type": "code",
   "execution_count": 71,
   "id": "646fc159-60de-454c-a1ac-40cbde92855e",
   "metadata": {},
   "outputs": [
    {
     "data": {
      "image/png": "[encoded data removed]",
      "text/plain": [
       "<Figure size 432x288 with 1 Axes>"
      ]
     },
     "metadata": {
      "needs_background": "light"
     },
     "output_type": "display_data"
    }
   ],
   "source": [
    "#データ準備\n",
    "y_col = 'Salary'\n",
    "X = df.loc[:,df.columns!=y_col]\n",
    "y = df[y_col]\n",
    "numeric_cols = X.select_dtypes(include=np.number).columns.to_list()\n",
    "#ダミー変数化\n",
    "X =pd.get_dummies(X,drop_first=True)\n",
    "\n",
    "X_train,X_test,y_train,y_test = train_test_split(X,y,test_size=0.3, random_state=0)\n",
    "\n",
    "#標準化\n",
    "sc = StandardScaler()\n",
    "X_train[numeric_cols] =sc.fit_transform(X_train[numeric_cols])\n",
    "X_test[numeric_cols] =sc.transform(X_test[numeric_cols])\n",
    "\n",
    "mse_score = []\n",
    "coef = []\n",
    "ranges = np.logspace(-3,3)\n",
    "for i in ranges:\n",
    "    model = Ridge(alpha=i)\n",
    "    model.fit(X_train,y_train)\n",
    "    y_pred = model.predict(X_test)\n",
    "    mse = mean_squared_error(y_pred,y_test)\n",
    "   \n",
    "    mse_score.append(mse)\n",
    "    coef.append(model.coef_)\n",
    "plt.plot(ranges,mse_score)\n",
    "plt.xscale('log')\n",
    "plt.show()\n"
   ]
  },
  {
   "cell_type": "code",
   "execution_count": 76,
   "id": "6dcb96b6-785b-406a-83da-cbc6e29da277",
   "metadata": {},
   "outputs": [
    {
     "data": {
      "image/png": "[encoded data removed]",
      "text/plain": [
       "<Figure size 432x288 with 1 Axes>"
      ]
     },
     "metadata": {
      "needs_background": "light"
     },
     "output_type": "display_data"
    }
   ],
   "source": [
    "plt.plot(ranges,coef)\n",
    "plt.xscale('log')\n",
    "plt.show()"
   ]
  },
  {
   "cell_type": "markdown",
   "id": "88418ba2-dd97-4a6e-b1dd-ba06da6a0a56",
   "metadata": {},
   "source": [
    "### 課題　さまざまなλのLassoの精度を比較しよう\n",
    "- λ=10**-3 ~ 10**3\n",
    "- hold-outで学習テストとテストデータに分割\n",
    "- MSEを評価指標に\n",
    "- λを増加させた時のMSEの推移をプロット\n",
    "- λを増加させた時の特徴量の係数値の推移プロット"
   ]
  },
  {
   "cell_type": "code",
   "execution_count": 83,
   "id": "ef634bbc-8aac-4b7a-aeb6-0ba8eae6e452",
   "metadata": {},
   "outputs": [
    {
     "data": {
      "text/plain": [
       "250.24481877112976"
      ]
     },
     "execution_count": 83,
     "metadata": {},
     "output_type": "execute_result"
    }
   ],
   "source": [
    "#データ準備\n",
    "y_col = 'Salary'\n",
    "X = df.loc[:,df.columns!=y_col]\n",
    "y = df[y_col]\n",
    "numeric_cols = X.select_dtypes(include=np.number).columns.to_list()\n",
    "#ダミー変数化\n",
    "X =pd.get_dummies(X,drop_first=True)\n",
    "\n",
    "X_train,X_test,y_train,y_test = train_test_split(X,y,test_size=0.3, random_state=0)\n",
    "\n",
    "#標準化\n",
    "sc = StandardScaler()\n",
    "X_train[numeric_cols] =sc.fit_transform(X_train[numeric_cols])\n",
    "X_test[numeric_cols] =sc.transform(X_test[numeric_cols])\n",
    "\n",
    "#モデル作成\n",
    "model = Lasso()\n",
    "model.fit(X_train,y_train)\n",
    "y_pred = model.predict(X_test)\n",
    "\n",
    "#MSE評価\n",
    "mse = mean_squared_error(y_test,y_pred)\n",
    "mae = mean_absolute_error(y_test,y_pred)\n",
    "mae"
   ]
  },
  {
   "cell_type": "code",
   "execution_count": 78,
   "id": "af239e91-464e-4440-b768-352c7c88e5ca",
   "metadata": {},
   "outputs": [
    {
     "data": {
      "text/plain": [
       "array([-263.93470404,  267.52882597,   42.60344047,  -33.86419872,\n",
       "          7.61638806,  125.23251733,  -29.82564501, -239.24447846,\n",
       "        330.30504107,   -4.11414372,  259.64536978,    0.        ,\n",
       "       -160.99905107,   71.08401856,   40.14808014,  -30.18012969,\n",
       "          0.        ,  -93.87340542,   25.7211037 ])"
      ]
     },
     "execution_count": 78,
     "metadata": {},
     "output_type": "execute_result"
    }
   ],
   "source": [
    "model.coef_"
   ]
  },
  {
   "cell_type": "code",
   "execution_count": null,
   "id": "7297885e-5941-4099-90fa-103bd2ab8eb8",
   "metadata": {},
   "outputs": [],
   "source": [
    "### Lasso\n",
    "- L1ノルムを使う\n",
    "- λを大きくするにつれて各特徴量の係数が小さくなり、やがて０になる\n",
    "- 特徴量スケーリングは必要\n",
    "- 特徴量選択を自動で行うアルゴリズム"
   ]
  },
  {
   "cell_type": "code",
   "execution_count": 80,
   "id": "32d3b281-b300-477c-bff6-cfe82bdbea47",
   "metadata": {
    "collapsed": true,
    "jupyter": {
     "outputs_hidden": true
    },
    "tags": []
   },
   "outputs": [
    {
     "name": "stderr",
     "output_type": "stream",
     "text": [
      "/opt/anaconda3/lib/python3.9/site-packages/sklearn/linear_model/_coordinate_descent.py:647: ConvergenceWarning: Objective did not converge. You might want to increase the number of iterations, check the scale of the features or consider increasing regularisation. Duality gap: 4.495e+06, tolerance: 3.232e+03\n",
      "  model = cd_fast.enet_coordinate_descent(\n",
      "/opt/anaconda3/lib/python3.9/site-packages/sklearn/linear_model/_coordinate_descent.py:647: ConvergenceWarning: Objective did not converge. You might want to increase the number of iterations, check the scale of the features or consider increasing regularisation. Duality gap: 3.709e+06, tolerance: 3.232e+03\n",
      "  model = cd_fast.enet_coordinate_descent(\n",
      "/opt/anaconda3/lib/python3.9/site-packages/sklearn/linear_model/_coordinate_descent.py:647: ConvergenceWarning: Objective did not converge. You might want to increase the number of iterations, check the scale of the features or consider increasing regularisation. Duality gap: 2.991e+06, tolerance: 3.232e+03\n",
      "  model = cd_fast.enet_coordinate_descent(\n",
      "/opt/anaconda3/lib/python3.9/site-packages/sklearn/linear_model/_coordinate_descent.py:647: ConvergenceWarning: Objective did not converge. You might want to increase the number of iterations, check the scale of the features or consider increasing regularisation. Duality gap: 2.296e+06, tolerance: 3.232e+03\n",
      "  model = cd_fast.enet_coordinate_descent(\n",
      "/opt/anaconda3/lib/python3.9/site-packages/sklearn/linear_model/_coordinate_descent.py:647: ConvergenceWarning: Objective did not converge. You might want to increase the number of iterations, check the scale of the features or consider increasing regularisation. Duality gap: 1.665e+06, tolerance: 3.232e+03\n",
      "  model = cd_fast.enet_coordinate_descent(\n",
      "/opt/anaconda3/lib/python3.9/site-packages/sklearn/linear_model/_coordinate_descent.py:647: ConvergenceWarning: Objective did not converge. You might want to increase the number of iterations, check the scale of the features or consider increasing regularisation. Duality gap: 1.132e+06, tolerance: 3.232e+03\n",
      "  model = cd_fast.enet_coordinate_descent(\n",
      "/opt/anaconda3/lib/python3.9/site-packages/sklearn/linear_model/_coordinate_descent.py:647: ConvergenceWarning: Objective did not converge. You might want to increase the number of iterations, check the scale of the features or consider increasing regularisation. Duality gap: 7.142e+05, tolerance: 3.232e+03\n",
      "  model = cd_fast.enet_coordinate_descent(\n",
      "/opt/anaconda3/lib/python3.9/site-packages/sklearn/linear_model/_coordinate_descent.py:647: ConvergenceWarning: Objective did not converge. You might want to increase the number of iterations, check the scale of the features or consider increasing regularisation. Duality gap: 4.134e+05, tolerance: 3.232e+03\n",
      "  model = cd_fast.enet_coordinate_descent(\n",
      "/opt/anaconda3/lib/python3.9/site-packages/sklearn/linear_model/_coordinate_descent.py:647: ConvergenceWarning: Objective did not converge. You might want to increase the number of iterations, check the scale of the features or consider increasing regularisation. Duality gap: 2.153e+05, tolerance: 3.232e+03\n",
      "  model = cd_fast.enet_coordinate_descent(\n",
      "/opt/anaconda3/lib/python3.9/site-packages/sklearn/linear_model/_coordinate_descent.py:647: ConvergenceWarning: Objective did not converge. You might want to increase the number of iterations, check the scale of the features or consider increasing regularisation. Duality gap: 9.725e+04, tolerance: 3.232e+03\n",
      "  model = cd_fast.enet_coordinate_descent(\n",
      "/opt/anaconda3/lib/python3.9/site-packages/sklearn/linear_model/_coordinate_descent.py:647: ConvergenceWarning: Objective did not converge. You might want to increase the number of iterations, check the scale of the features or consider increasing regularisation. Duality gap: 3.520e+04, tolerance: 3.232e+03\n",
      "  model = cd_fast.enet_coordinate_descent(\n",
      "/opt/anaconda3/lib/python3.9/site-packages/sklearn/linear_model/_coordinate_descent.py:647: ConvergenceWarning: Objective did not converge. You might want to increase the number of iterations, check the scale of the features or consider increasing regularisation. Duality gap: 8.130e+03, tolerance: 3.232e+03\n",
      "  model = cd_fast.enet_coordinate_descent(\n",
      "/opt/anaconda3/lib/python3.9/site-packages/sklearn/linear_model/_coordinate_descent.py:647: ConvergenceWarning: Objective did not converge. You might want to increase the number of iterations, check the scale of the features or consider increasing regularisation. Duality gap: 4.636e+03, tolerance: 3.232e+03\n",
      "  model = cd_fast.enet_coordinate_descent(\n",
      "/opt/anaconda3/lib/python3.9/site-packages/sklearn/linear_model/_coordinate_descent.py:647: ConvergenceWarning: Objective did not converge. You might want to increase the number of iterations, check the scale of the features or consider increasing regularisation. Duality gap: 3.252e+03, tolerance: 3.232e+03\n",
      "  model = cd_fast.enet_coordinate_descent(\n"
     ]
    }
   ],
   "source": [
    "#データ準備\n",
    "y_col = 'Salary'\n",
    "X = df.loc[:,df.columns!=y_col]\n",
    "y = df[y_col]\n",
    "numeric_cols = X.select_dtypes(include=np.number).columns.to_list()\n",
    "#ダミー変数化\n",
    "X =pd.get_dummies(X,drop_first=True)\n",
    "\n",
    "X_train,X_test,y_train,y_test = train_test_split(X,y,test_size=0.3, random_state=0)\n",
    "\n",
    "#標準化\n",
    "sc = StandardScaler()\n",
    "X_train[numeric_cols] =sc.fit_transform(X_train[numeric_cols])\n",
    "X_test[numeric_cols] =sc.transform(X_test[numeric_cols])\n",
    "\n",
    "mse_score = []\n",
    "coef = []\n",
    "ranges = np.logspace(-3,3)\n",
    "for i in ranges:\n",
    "    model = Lasso(alpha=i)\n",
    "    model.fit(X_train,y_train)\n",
    "    y_pred = model.predict(X_test)\n",
    "    mse = mean_squared_error(y_pred,y_test)\n",
    "   \n",
    "    mse_score.append(mse)\n",
    "    coef.append(model.coef_)\n",
    "\n"
   ]
  },
  {
   "cell_type": "code",
   "execution_count": 81,
   "id": "c91c9b41-1386-4faa-8b51-98894170afff",
   "metadata": {},
   "outputs": [
    {
     "data": {
      "image/png": "[encoded data removed]",
      "text/plain": [
       "<Figure size 432x288 with 1 Axes>"
      ]
     },
     "metadata": {
      "needs_background": "light"
     },
     "output_type": "display_data"
    }
   ],
   "source": [
    "plt.plot(ranges,mse_score)\n",
    "plt.xscale('log')\n",
    "plt.show()"
   ]
  },
  {
   "cell_type": "code",
   "execution_count": 82,
   "id": "14fd8b26-f922-42f5-8588-10884a343721",
   "metadata": {},
   "outputs": [
    {
     "data": {
      "image/png": "[encoded data removed]",
      "text/plain": [
       "<Figure size 432x288 with 1 Axes>"
      ]
     },
     "metadata": {
      "needs_background": "light"
     },
     "output_type": "display_data"
    }
   ],
   "source": [
    "plt.plot(ranges,coef)\n",
    "plt.xscale('log')\n",
    "plt.show()"
   ]
  },
  {
   "cell_type": "markdown",
   "id": "4aae71df-7773-4a93-91cf-8e97744b65c9",
   "metadata": {},
   "source": [
    "## まとめ\n",
    "- Ridgeは学習しても全ての特徴量が必要になる\n",
    "- Lassoは学習すると一部の特徴量が不用意なる\n",
    "- 目的変数に関連する特徴量がお多い場合は、Ridgeの方が精度が高い\n",
    "- 目的変数に関連する特徴量が少ない場合は、Lassoの方が精度が高い。\n",
    "- 事前にはわからないので、k-FOLDで汎化性能が高い方を選択する"
   ]
  },
  {
   "cell_type": "code",
   "execution_count": null,
   "id": "d2c9b0fb-bd69-4f59-b05b-88c9ee6b0869",
   "metadata": {},
   "outputs": [],
   "source": []
  }
 ],
 "metadata": {
  "kernelspec": {
   "display_name": "Python 3 (ipykernel)",
   "language": "python",
   "name": "python3"
  },
  "language_info": {
   "codemirror_mode": {
    "name": "ipython",
    "version": 3
   },
   "file_extension": ".py",
   "mimetype": "text/x-python",
   "name": "python",
   "nbconvert_exporter": "python",
   "pygments_lexer": "ipython3",
   "version": "3.9.12"
  }
 },
 "nbformat": 4,
 "nbformat_minor": 5
}
